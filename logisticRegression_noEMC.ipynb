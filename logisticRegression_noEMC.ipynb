{
 "cells": [
  {
   "cell_type": "markdown",
   "metadata": {},
   "source": [
    "# Logistic Regression"
   ]
  },
  {
   "cell_type": "markdown",
   "metadata": {},
   "source": [
    "## Intuition"
   ]
  },
  {
   "cell_type": "markdown",
   "metadata": {},
   "source": [
    "Logistic regression can be used to predict the probability of a single event based typically on continuous inputs. The data used to train this model is typically continuous data predicting a binary result."
   ]
  },
  {
   "cell_type": "markdown",
   "metadata": {},
   "source": [
    "### Simple Use Case\n",
    "\n",
    "For example, we could use logistic regresion to predict the probability of marital status given income and age (years over 16). Data for this situation might look like."
   ]
  },
  {
   "cell_type": "code",
   "execution_count": 7,
   "metadata": {},
   "outputs": [
    {
     "data": {
      "image/png": "[encoded data removed]",
      "text/plain": [
       "plot without title"
      ]
     },
     "metadata": {},
     "output_type": "display_data"
    }
   ],
   "source": [
    "marriage = function(nsingle,nmarried,single_spread,married_spread){\n",
    "    df <- data.frame(Age=rep(0,(nsingle+nmarried)),\n",
    "                 Income=rep(0,(nsingle+nmarried)))\n",
    "    # Single data\n",
    "    for (i in 1:nsingle){\n",
    "        l1 <- runif(1,0,1)\n",
    "        l2 <- runif(1,0,single_spread)\n",
    "        x1 <- l1*c(0,20) + (1-l1)*c(20,0)\n",
    "        x2 <- l2*c(1/sqrt(2),1/sqrt(2))\n",
    "        x <- x1 + x2\n",
    "        df[i,] <- x\n",
    "    }\n",
    "\n",
    "    # Married data\n",
    "    for (i in (nsingle+1):(nsingle+nmarried)){\n",
    "        l1 <- runif(1,0,1)\n",
    "        l2 <- runif(1,-married_spread,married_spread)\n",
    "        x1 <- l1*c(15,55) + (1-l1)*c(55,15)\n",
    "        x2 <- l2*c(1/sqrt(2),1/sqrt(2))\n",
    "        x <- x1 + x2\n",
    "        df[i,] <- x\n",
    "    }\n",
    "\n",
    "    df$Married <- as.factor(c(rep(\"no\",nsingle),rep(\"yes\",nmarried)))\n",
    "    return(df)\n",
    "}\n",
    "df=marriage(100,100,25,20)\n",
    "plot(Income~Age,df,col=df$Married)"
   ]
  },
  {
   "cell_type": "markdown",
   "metadata": {},
   "source": [
    "Where the red points indicate those who have married and the black points indicate those who are single. Logistic regression could be used to take data like this and build a model that could predict the probability of marriage given Age and Income."
   ]
  },
  {
   "cell_type": "markdown",
   "metadata": {},
   "source": [
    "### General Linear Models \n",
    "\n",
    "Logistic regression is an example of a general linear model. General linear models are based upon a standard regression model with some kind of modification. To modify the standard linear regression model so that it can predict probabilities the output is feed into a \"sigmoid function\". The output of a standard regression model can vary between $-\\infty$ and $+\\infty$, feeding the output through a sigmoid function \"squashes\" the output to be between 0 and 1. This is demonstrated below."
   ]
  },
  {
   "cell_type": "code",
   "execution_count": 8,
   "metadata": {},
   "outputs": [
    {
     "data": {
      "image/png": "[encoded data removed]",
      "text/plain": [
       "plot without title"
      ]
     },
     "metadata": {},
     "output_type": "display_data"
    }
   ],
   "source": [
    "# Defining the sigmoid function\n",
    "sigmoid = function(x) {\n",
    "   1 / (1 + exp(-x))\n",
    "}\n",
    "# Generating the data\n",
    "n <- 100\n",
    "x <- rnorm(n,0,1)\n",
    "y <- 3*x + 1\n",
    "ysig <- sigmoid(y) \n",
    "# Plotting the data\n",
    "par(mfrow=c(1,2))\n",
    "plot(x,y)\n",
    "plot(x,ysig)"
   ]
  },
  {
   "cell_type": "markdown",
   "metadata": {},
   "source": [
    "The sigmoid function is"
   ]
  },
  {
   "cell_type": "markdown",
   "metadata": {},
   "source": [
    "$$f(x) = \\frac{1}{1 + e^{-x}}$$"
   ]
  },
  {
   "cell_type": "markdown",
   "metadata": {},
   "source": [
    "For large negative x, $e^{-x}$ is very large so the sigmoid function is small; for x equal to 0 $e^{-x} = 1$ hence the sigmoid function is equal to 0.5; for x large and positive $e^{-x}$ is very small hence the sigmoid function is close to 1. The inverse function can be found, by rearranging to make x the subject. Firstly, multiply top and bottom by $e^{x}$."
   ]
  },
  {
   "cell_type": "markdown",
   "metadata": {},
   "source": [
    "$$p(x) = \\frac{e^{x}}{e^{x} + 1}$$"
   ]
  },
  {
   "cell_type": "markdown",
   "metadata": {},
   "source": [
    "$$\\implies (e^{x} + 1)p(x) = e^{x} \\implies p(x)e^{x} + p(x) = e^{x} \\implies p(x) e^{x} - e^{x} = -p(x)$$"
   ]
  },
  {
   "cell_type": "markdown",
   "metadata": {},
   "source": [
    "$$\\implies e^{x} (p(x) - 1)= -p(x) \\implies e^{x}=\\frac{p(x)}{1-p(x)} \\implies x=\\ln{\\frac{p(x)}{1-p(x)}}$$"
   ]
  },
  {
   "cell_type": "markdown",
   "metadata": {},
   "source": [
    "$$\\implies p^{-1}(x)=\\ln{\\frac{x}{1-x}}$$"
   ]
  },
  {
   "cell_type": "markdown",
   "metadata": {},
   "source": [
    "The inverse of the sigmoid function is sometimes called the logit function. To relate the above function to the logistic regression model, think of x as the output of a linear model and p(x) as a probability. So, x can be throught of as."
   ]
  },
  {
   "cell_type": "markdown",
   "metadata": {},
   "source": [
    "$$x=\\beta_{0} + \\beta_{1}x_{1} + + \\beta_{2}x_{2} + .... + \\beta_{n} x_{n}$$"
   ]
  },
  {
   "cell_type": "markdown",
   "metadata": {},
   "source": [
    "# A Basic Example\n",
    "\n",
    "## Training a Logistic Regression Model\n",
    "\n",
    "The code below trains a logistic model using the Age, Income and Mariage data frame created above"
   ]
  },
  {
   "cell_type": "code",
   "execution_count": 19,
   "metadata": {},
   "outputs": [],
   "source": [
    "# Modifying the above data frame so married is one and single is zero\n",
    "df$MarriedBin <- as.integer(df$Married==\"yes\")\n",
    "fit_initial <- glm(MarriedBin ~ Age+Income,family=binomial,data=df)"
   ]
  },
  {
   "cell_type": "markdown",
   "metadata": {},
   "source": [
    "The code below produces a summary of the fit and a few predictions as a sanity check"
   ]
  },
  {
   "cell_type": "code",
   "execution_count": 20,
   "metadata": {},
   "outputs": [
    {
     "data": {
      "text/plain": [
       "\n",
       "Call:\n",
       "glm(formula = MarriedBin ~ Age + Income, family = binomial, data = df)\n",
       "\n",
       "Deviance Residuals: \n",
       "    Min       1Q   Median       3Q      Max  \n",
       "-1.4989  -0.9007  -0.1073   0.8462   1.8888  \n",
       "\n",
       "Coefficients:\n",
       "             Estimate Std. Error z value Pr(>|z|)  \n",
       "(Intercept) -2.100778   1.205606  -1.743   0.0814 .\n",
       "Age          0.001173   0.035928   0.033   0.9739  \n",
       "Income       0.070790   0.037899   1.868   0.0618 .\n",
       "---\n",
       "Signif. codes:  0 '***' 0.001 '**' 0.01 '*' 0.05 '.' 0.1 ' ' 1\n",
       "\n",
       "(Dispersion parameter for binomial family taken to be 1)\n",
       "\n",
       "    Null deviance: 27.726  on 19  degrees of freedom\n",
       "Residual deviance: 21.744  on 17  degrees of freedom\n",
       "AIC: 27.744\n",
       "\n",
       "Number of Fisher Scoring iterations: 4\n"
      ]
     },
     "metadata": {},
     "output_type": "display_data"
    },
    {
     "name": "stdout",
     "output_type": "stream",
     "text": [
      "[1] \"data:\"\n"
     ]
    },
    {
     "data": {
      "text/html": [
       "<table>\n",
       "<thead><tr><th scope=col>Age</th><th scope=col>Income</th></tr></thead>\n",
       "<tbody>\n",
       "\t<tr><td>20</td><td>20</td></tr>\n",
       "\t<tr><td>30</td><td>30</td></tr>\n",
       "\t<tr><td>60</td><td>60</td></tr>\n",
       "\t<tr><td>10</td><td>40</td></tr>\n",
       "\t<tr><td>40</td><td>10</td></tr>\n",
       "</tbody>\n",
       "</table>\n"
      ],
      "text/latex": [
       "\\begin{tabular}{r|ll}\n",
       " Age & Income\\\\\n",
       "\\hline\n",
       "\t 20 & 20\\\\\n",
       "\t 30 & 30\\\\\n",
       "\t 60 & 60\\\\\n",
       "\t 10 & 40\\\\\n",
       "\t 40 & 10\\\\\n",
       "\\end{tabular}\n"
      ],
      "text/markdown": [
       "\n",
       "| Age | Income |\n",
       "|---|---|\n",
       "| 20 | 20 |\n",
       "| 30 | 30 |\n",
       "| 60 | 60 |\n",
       "| 10 | 40 |\n",
       "| 40 | 10 |\n",
       "\n"
      ],
      "text/plain": [
       "  Age Income\n",
       "1 20  20    \n",
       "2 30  30    \n",
       "3 60  60    \n",
       "4 10  40    \n",
       "5 40  10    "
      ]
     },
     "metadata": {},
     "output_type": "display_data"
    },
    {
     "name": "stdout",
     "output_type": "stream",
     "text": [
      "[1] \"predictions:\"\n"
     ]
    },
    {
     "data": {
      "text/html": [
       "<dl class=dl-horizontal>\n",
       "\t<dt>1</dt>\n",
       "\t\t<dd>0.340400684167112</dd>\n",
       "\t<dt>2</dt>\n",
       "\t\t<dd>0.514527219728896</dd>\n",
       "\t<dt>3</dt>\n",
       "\t\t<dd>0.901768278214024</dd>\n",
       "\t<dt>4</dt>\n",
       "\t\t<dd>0.677555821487721</dd>\n",
       "\t<dt>5</dt>\n",
       "\t\t<dd>0.206533971033521</dd>\n",
       "</dl>\n"
      ],
      "text/latex": [
       "\\begin{description*}\n",
       "\\item[1] 0.340400684167112\n",
       "\\item[2] 0.514527219728896\n",
       "\\item[3] 0.901768278214024\n",
       "\\item[4] 0.677555821487721\n",
       "\\item[5] 0.206533971033521\n",
       "\\end{description*}\n"
      ],
      "text/markdown": [
       "1\n",
       ":   0.3404006841671122\n",
       ":   0.5145272197288963\n",
       ":   0.9017682782140244\n",
       ":   0.6775558214877215\n",
       ":   0.206533971033521\n",
       "\n"
      ],
      "text/plain": [
       "        1         2         3         4         5 \n",
       "0.3404007 0.5145272 0.9017683 0.6775558 0.2065340 "
      ]
     },
     "metadata": {},
     "output_type": "display_data"
    }
   ],
   "source": [
    "summary(fit_initial)\n",
    "df_new <- data.frame(Age=c(20,30,60,10,40),Income=c(20,30,60,40,10))\n",
    "predictions <- predict(fit_initial,newdata=df_new,type='response')\n",
    "print(\"data:\")\n",
    "df_new\n",
    "print(\"predictions:\")\n",
    "predictions"
   ]
  },
  {
   "cell_type": "markdown",
   "metadata": {},
   "source": [
    "The summary is similar to that of the linear regression summary, there are regression coefficients with related p-values. With reference to the plot above the probability outputs look reasonable. The standard way to predict an outcome is to threshold with a value of 0.5. So, for person 1 in the data above, the probability of marriage is less than 0.5, so we would predict single, for person 2 the probability of marriage is greater than 0.5 so we would predict married. It is also possible to generate a decision boundary; given that we threshold with a value of 0.5, and with reference to sigmoid function notes above, we know that we need x (or the linear model output) to be 0 for a probility of 0.5. So the equation of the decision boundary in the general case is."
   ]
  },
  {
   "cell_type": "markdown",
   "metadata": {},
   "source": [
    "$$0 = \\beta_{0} + \\beta_{1} x_{1} + \\beta_{2} x_{2} + .... + \\beta_{n} x_{n}$$"
   ]
  },
  {
   "cell_type": "markdown",
   "metadata": {},
   "source": [
    "For our model we have $x_{1}$ as Age and $x_{2}$ as Income. Using the above equation and making Income the subject gives."
   ]
  },
  {
   "cell_type": "markdown",
   "metadata": {},
   "source": [
    "$$Income = -\\frac{\\beta_{0}}{\\beta_{2}} -\\frac{\\beta_{1}}{\\beta_{2}} Age$$"
   ]
  },
  {
   "cell_type": "markdown",
   "metadata": {},
   "source": [
    "The code below uses the equation above to include a decision boundary into the plot above"
   ]
  },
  {
   "cell_type": "code",
   "execution_count": 11,
   "metadata": {},
   "outputs": [
    {
     "data": {
      "image/png": "[encoded data removed]",
      "text/plain": [
       "plot without title"
      ]
     },
     "metadata": {},
     "output_type": "display_data"
    }
   ],
   "source": [
    "intersect <- -fit_initial$coeff[1]/fit_initial$coeff[3]\n",
    "gradient <- -fit_initial$coeff[2]/fit_initial$coeff[3]\n",
    "# plots\n",
    "plot(Income~Age,df,col=df$Married)\n",
    "abline(intersect,gradient)"
   ]
  },
  {
   "cell_type": "markdown",
   "metadata": {},
   "source": [
    "## Model Diagnostics\n",
    "\n",
    "### Confusion Matrix/Truth Table\n",
    "\n",
    "A confusion matrix is a way of assessing the models prediction against the actual results. The code below produces a confusion matrix for the marriage status example above."
   ]
  },
  {
   "cell_type": "code",
   "execution_count": 13,
   "metadata": {},
   "outputs": [
    {
     "data": {
      "text/plain": [
       "          Reference\n",
       "Prediction  0  1\n",
       "         0 82 15\n",
       "         1 18 85"
      ]
     },
     "metadata": {},
     "output_type": "display_data"
    }
   ],
   "source": [
    "#install.packages(\"caret\",repos=\"http://cran.us.r-project.org\")\n",
    "#install.packages(\"e1071\",repos=\"http://cran.us.r-project.org\")\n",
    "library(caret)\n",
    "library(e1071)\n",
    "df$probs <- predict(fit_initial,type=\"response\")\n",
    "MarriedBinPred <- ifelse(df$probs>0.5,1,0)\n",
    "mat <- confusionMatrix(as.factor(MarriedBinPred), as.factor(df$MarriedBin))\n",
    "mat$table"
   ]
  },
  {
   "cell_type": "markdown",
   "metadata": {},
   "source": [
    "The reference is the actual data and the prediction what the model has produced. Going around the table from top left to bottom right\n",
    "* Top left people who were correctly predicted to be single (True Negatives (TN))\n",
    "* Top right people who were incorrectly predicted to be single (False Negatives (FN))\n",
    "* Bottom left people who were incorrectly predicted to be married (False Positives (FP))\n",
    "* Bottom right people who were correctly predicted to be married (True Positives (TP))\n",
    "\n",
    "__Remember the positive or negative part of the name coincides with the prediction, the true or false part of the name coincides with the whether the prediction was correct or not.__ The following definitions also need to be learnt for the EMC.\n",
    "\n",
    "* Accuracy = (TN + TP)/(TN + TP + FN + FP)\n",
    "* TPR = sensitivity = true positive rate = percentage of positives the classifier correctly identified = TP/(Actual Positives) = TP/(TP + FN)\n",
    "* FPR = specificity = false positive rate = percentage of negatives the classifier marked as positive = FP/(Actual Negative) = FP/(TN + FP)\n",
    "* Precision = Percentage of those predicted positive that are really positive = TP/(TP + FP)\n",
    "* Recall = Percentage of positive instances that were correctly labelled = TP/(TP + FN) = TPR\n",
    "\n",
    "### ROC Curves and the AUC Parameter\n",
    "\n",
    "ROC (Receiver Operating Characteristic) curves are a way of assessing the \"performance\" of the model. I have reproduced the marriage data with fewer data points below."
   ]
  },
  {
   "cell_type": "code",
   "execution_count": 25,
   "metadata": {},
   "outputs": [],
   "source": [
    "# generating simple data\n",
    "single_spread = 20\n",
    "married_spread = 25\n",
    "nsingle = 10\n",
    "nmarried = 10\n",
    "df=marriage(nsingle,nmarried,single_spread,married_spread)"
   ]
  },
  {
   "cell_type": "markdown",
   "metadata": {},
   "source": [
    "As before a logistic regression model has been fit and the probabilities calculated."
   ]
  },
  {
   "cell_type": "code",
   "execution_count": 26,
   "metadata": {},
   "outputs": [
    {
     "data": {
      "text/html": [
       "<table>\n",
       "<thead><tr><th scope=col>Age</th><th scope=col>Income</th><th scope=col>Married</th><th scope=col>MarriedBin</th><th scope=col>probs</th></tr></thead>\n",
       "<tbody>\n",
       "\t<tr><td>20.557448 </td><td>25.698150 </td><td>no        </td><td>0         </td><td>0.75810085</td></tr>\n",
       "\t<tr><td> 5.118870 </td><td>24.359784 </td><td>no        </td><td>0         </td><td>0.06222977</td></tr>\n",
       "\t<tr><td>11.140977 </td><td>20.700821 </td><td>no        </td><td>0         </td><td>0.10062149</td></tr>\n",
       "\t<tr><td> 8.141332 </td><td>24.490223 </td><td>no        </td><td>0         </td><td>0.12037797</td></tr>\n",
       "\t<tr><td>24.239333 </td><td>16.074894 </td><td>no        </td><td>0         </td><td>0.43240688</td></tr>\n",
       "\t<tr><td>30.748610 </td><td>12.018865 </td><td>no        </td><td>0         </td><td>0.56680530</td></tr>\n",
       "\t<tr><td>29.703733 </td><td>12.161868 </td><td>no        </td><td>0         </td><td>0.51568297</td></tr>\n",
       "\t<tr><td>19.119326 </td><td>21.346511 </td><td>no        </td><td>0         </td><td>0.44795086</td></tr>\n",
       "\t<tr><td> 6.853559 </td><td>22.059480 </td><td>no        </td><td>0         </td><td>0.05443632</td></tr>\n",
       "\t<tr><td>12.350472 </td><td>25.147815 </td><td>no        </td><td>0         </td><td>0.29543273</td></tr>\n",
       "\t<tr><td> 6.618449 </td><td>19.390160 </td><td>no        </td><td>0         </td><td>0.02832670</td></tr>\n",
       "\t<tr><td>21.600080 </td><td>26.099880 </td><td>no        </td><td>0         </td><td>0.81392472</td></tr>\n",
       "\t<tr><td> 6.412208 </td><td>25.712555 </td><td>no        </td><td>0         </td><td>0.10924044</td></tr>\n",
       "\t<tr><td>17.060004 </td><td>20.803133 </td><td>no        </td><td>0         </td><td>0.30814648</td></tr>\n",
       "\t<tr><td>25.654421 </td><td>12.636175 </td><td>no        </td><td>0         </td><td>0.31981446</td></tr>\n",
       "\t<tr><td>14.901382 </td><td>17.238683 </td><td>no        </td><td>0         </td><td>0.10521995</td></tr>\n",
       "\t<tr><td> 7.738963 </td><td>25.743817 </td><td>no        </td><td>0         </td><td>0.14345380</td></tr>\n",
       "\t<tr><td> 9.748317 </td><td>16.760857 </td><td>no        </td><td>0         </td><td>0.03123351</td></tr>\n",
       "\t<tr><td> 4.186525 </td><td>19.311930 </td><td>no        </td><td>0         </td><td>0.01612169</td></tr>\n",
       "\t<tr><td>30.020624 </td><td>14.982373 </td><td>no        </td><td>0         </td><td>0.68943092</td></tr>\n",
       "\t<tr><td>42.411791 </td><td>31.164734 </td><td>yes       </td><td>1         </td><td>0.99941170</td></tr>\n",
       "\t<tr><td>50.151018 </td><td>40.797840 </td><td>yes       </td><td>1         </td><td>0.99998960</td></tr>\n",
       "\t<tr><td>61.405690 </td><td>38.702738 </td><td>yes       </td><td>1         </td><td>0.99999871</td></tr>\n",
       "\t<tr><td>59.120014 </td><td>26.600831 </td><td>yes       </td><td>1         </td><td>0.99996277</td></tr>\n",
       "\t<tr><td>33.281076 </td><td>24.116249 </td><td>yes       </td><td>1         </td><td>0.97561610</td></tr>\n",
       "\t<tr><td>42.272247 </td><td>13.108422 </td><td>yes       </td><td>1         </td><td>0.95959302</td></tr>\n",
       "\t<tr><td>32.010220 </td><td>26.053293 </td><td>yes       </td><td>1         </td><td>0.97921133</td></tr>\n",
       "\t<tr><td>33.949690 </td><td> 8.657247 </td><td>yes       </td><td>1         </td><td>0.55328559</td></tr>\n",
       "\t<tr><td>37.471639 </td><td>26.345879 </td><td>yes       </td><td>1         </td><td>0.99436769</td></tr>\n",
       "\t<tr><td>62.086620 </td><td>34.925538 </td><td>yes       </td><td>1         </td><td>0.99999733</td></tr>\n",
       "\t<tr><td>...</td><td>...</td><td>...</td><td>...</td><td>...</td></tr>\n",
       "\t<tr><td>48.023604</td><td>50.77783 </td><td>yes      </td><td>1        </td><td>0.9999984</td></tr>\n",
       "\t<tr><td>49.089836</td><td>33.86815 </td><td>yes      </td><td>1        </td><td>0.9999325</td></tr>\n",
       "\t<tr><td>39.234290</td><td>22.66552 </td><td>yes      </td><td>1        </td><td>0.9911109</td></tr>\n",
       "\t<tr><td>39.639355</td><td>12.38383 </td><td>yes      </td><td>1        </td><td>0.9163364</td></tr>\n",
       "\t<tr><td>26.056123</td><td>25.34199 </td><td>yes      </td><td>1        </td><td>0.9105049</td></tr>\n",
       "\t<tr><td> 9.201155</td><td>41.89362 </td><td>yes      </td><td>1        </td><td>0.9120672</td></tr>\n",
       "\t<tr><td>51.325961</td><td>37.73280 </td><td>yes      </td><td>1        </td><td>0.9999837</td></tr>\n",
       "\t<tr><td>11.199606</td><td>41.20740 </td><td>yes      </td><td>1        </td><td>0.9331686</td></tr>\n",
       "\t<tr><td>25.952878</td><td>39.27604 </td><td>yes      </td><td>1        </td><td>0.9961916</td></tr>\n",
       "\t<tr><td>62.617593</td><td>24.81719 </td><td>yes      </td><td>1        </td><td>0.9999746</td></tr>\n",
       "\t<tr><td>23.245188</td><td>53.45075 </td><td>yes      </td><td>1        </td><td>0.9997447</td></tr>\n",
       "\t<tr><td>38.029642</td><td>25.22628 </td><td>yes      </td><td>1        </td><td>0.9935600</td></tr>\n",
       "\t<tr><td>32.524086</td><td>20.46461 </td><td>yes      </td><td>1        </td><td>0.9345279</td></tr>\n",
       "\t<tr><td>48.997584</td><td>27.65075 </td><td>yes      </td><td>1        </td><td>0.9997035</td></tr>\n",
       "\t<tr><td>33.251849</td><td>37.52993 </td><td>yes      </td><td>1        </td><td>0.9989213</td></tr>\n",
       "\t<tr><td>61.784077</td><td>28.67851 </td><td>yes      </td><td>1        </td><td>0.9999876</td></tr>\n",
       "\t<tr><td>39.154976</td><td>18.91917 </td><td>yes      </td><td>1        </td><td>0.9784683</td></tr>\n",
       "\t<tr><td>31.141569</td><td>14.77958 </td><td>yes      </td><td>1        </td><td>0.7324223</td></tr>\n",
       "\t<tr><td>27.169296</td><td>40.84790 </td><td>yes      </td><td>1        </td><td>0.9980041</td></tr>\n",
       "\t<tr><td>43.140095</td><td>22.21867 </td><td>yes      </td><td>1        </td><td>0.9959497</td></tr>\n",
       "\t<tr><td>47.004324</td><td>29.63095 </td><td>yes      </td><td>1        </td><td>0.9997058</td></tr>\n",
       "\t<tr><td>49.489275</td><td>38.63692 </td><td>yes      </td><td>1        </td><td>0.9999799</td></tr>\n",
       "\t<tr><td>15.004543</td><td>21.54606 </td><td>yes      </td><td>1        </td><td>0.2486477</td></tr>\n",
       "\t<tr><td>38.437780</td><td>53.24333 </td><td>yes      </td><td>1        </td><td>0.9999918</td></tr>\n",
       "\t<tr><td>25.896272</td><td>45.27598 </td><td>yes      </td><td>1        </td><td>0.9990538</td></tr>\n",
       "\t<tr><td>55.173033</td><td>36.11544 </td><td>yes      </td><td>1        </td><td>0.9999901</td></tr>\n",
       "\t<tr><td>32.128378</td><td>47.23852 </td><td>yes      </td><td>1        </td><td>0.9998569</td></tr>\n",
       "\t<tr><td>19.823211</td><td>27.58371 </td><td>yes      </td><td>1        </td><td>0.8047857</td></tr>\n",
       "\t<tr><td>47.419741</td><td>28.94238 </td><td>yes      </td><td>1        </td><td>0.9996856</td></tr>\n",
       "\t<tr><td>45.462488</td><td>41.06798 </td><td>yes      </td><td>1        </td><td>0.9999714</td></tr>\n",
       "</tbody>\n",
       "</table>\n"
      ],
      "text/latex": [
       "\\begin{tabular}{r|lllll}\n",
       " Age & Income & Married & MarriedBin & probs\\\\\n",
       "\\hline\n",
       "\t 20.557448  & 25.698150  & no         & 0          & 0.75810085\\\\\n",
       "\t  5.118870  & 24.359784  & no         & 0          & 0.06222977\\\\\n",
       "\t 11.140977  & 20.700821  & no         & 0          & 0.10062149\\\\\n",
       "\t  8.141332  & 24.490223  & no         & 0          & 0.12037797\\\\\n",
       "\t 24.239333  & 16.074894  & no         & 0          & 0.43240688\\\\\n",
       "\t 30.748610  & 12.018865  & no         & 0          & 0.56680530\\\\\n",
       "\t 29.703733  & 12.161868  & no         & 0          & 0.51568297\\\\\n",
       "\t 19.119326  & 21.346511  & no         & 0          & 0.44795086\\\\\n",
       "\t  6.853559  & 22.059480  & no         & 0          & 0.05443632\\\\\n",
       "\t 12.350472  & 25.147815  & no         & 0          & 0.29543273\\\\\n",
       "\t  6.618449  & 19.390160  & no         & 0          & 0.02832670\\\\\n",
       "\t 21.600080  & 26.099880  & no         & 0          & 0.81392472\\\\\n",
       "\t  6.412208  & 25.712555  & no         & 0          & 0.10924044\\\\\n",
       "\t 17.060004  & 20.803133  & no         & 0          & 0.30814648\\\\\n",
       "\t 25.654421  & 12.636175  & no         & 0          & 0.31981446\\\\\n",
       "\t 14.901382  & 17.238683  & no         & 0          & 0.10521995\\\\\n",
       "\t  7.738963  & 25.743817  & no         & 0          & 0.14345380\\\\\n",
       "\t  9.748317  & 16.760857  & no         & 0          & 0.03123351\\\\\n",
       "\t  4.186525  & 19.311930  & no         & 0          & 0.01612169\\\\\n",
       "\t 30.020624  & 14.982373  & no         & 0          & 0.68943092\\\\\n",
       "\t 42.411791  & 31.164734  & yes        & 1          & 0.99941170\\\\\n",
       "\t 50.151018  & 40.797840  & yes        & 1          & 0.99998960\\\\\n",
       "\t 61.405690  & 38.702738  & yes        & 1          & 0.99999871\\\\\n",
       "\t 59.120014  & 26.600831  & yes        & 1          & 0.99996277\\\\\n",
       "\t 33.281076  & 24.116249  & yes        & 1          & 0.97561610\\\\\n",
       "\t 42.272247  & 13.108422  & yes        & 1          & 0.95959302\\\\\n",
       "\t 32.010220  & 26.053293  & yes        & 1          & 0.97921133\\\\\n",
       "\t 33.949690  &  8.657247  & yes        & 1          & 0.55328559\\\\\n",
       "\t 37.471639  & 26.345879  & yes        & 1          & 0.99436769\\\\\n",
       "\t 62.086620  & 34.925538  & yes        & 1          & 0.99999733\\\\\n",
       "\t ... & ... & ... & ... & ...\\\\\n",
       "\t 48.023604 & 50.77783  & yes       & 1         & 0.9999984\\\\\n",
       "\t 49.089836 & 33.86815  & yes       & 1         & 0.9999325\\\\\n",
       "\t 39.234290 & 22.66552  & yes       & 1         & 0.9911109\\\\\n",
       "\t 39.639355 & 12.38383  & yes       & 1         & 0.9163364\\\\\n",
       "\t 26.056123 & 25.34199  & yes       & 1         & 0.9105049\\\\\n",
       "\t  9.201155 & 41.89362  & yes       & 1         & 0.9120672\\\\\n",
       "\t 51.325961 & 37.73280  & yes       & 1         & 0.9999837\\\\\n",
       "\t 11.199606 & 41.20740  & yes       & 1         & 0.9331686\\\\\n",
       "\t 25.952878 & 39.27604  & yes       & 1         & 0.9961916\\\\\n",
       "\t 62.617593 & 24.81719  & yes       & 1         & 0.9999746\\\\\n",
       "\t 23.245188 & 53.45075  & yes       & 1         & 0.9997447\\\\\n",
       "\t 38.029642 & 25.22628  & yes       & 1         & 0.9935600\\\\\n",
       "\t 32.524086 & 20.46461  & yes       & 1         & 0.9345279\\\\\n",
       "\t 48.997584 & 27.65075  & yes       & 1         & 0.9997035\\\\\n",
       "\t 33.251849 & 37.52993  & yes       & 1         & 0.9989213\\\\\n",
       "\t 61.784077 & 28.67851  & yes       & 1         & 0.9999876\\\\\n",
       "\t 39.154976 & 18.91917  & yes       & 1         & 0.9784683\\\\\n",
       "\t 31.141569 & 14.77958  & yes       & 1         & 0.7324223\\\\\n",
       "\t 27.169296 & 40.84790  & yes       & 1         & 0.9980041\\\\\n",
       "\t 43.140095 & 22.21867  & yes       & 1         & 0.9959497\\\\\n",
       "\t 47.004324 & 29.63095  & yes       & 1         & 0.9997058\\\\\n",
       "\t 49.489275 & 38.63692  & yes       & 1         & 0.9999799\\\\\n",
       "\t 15.004543 & 21.54606  & yes       & 1         & 0.2486477\\\\\n",
       "\t 38.437780 & 53.24333  & yes       & 1         & 0.9999918\\\\\n",
       "\t 25.896272 & 45.27598  & yes       & 1         & 0.9990538\\\\\n",
       "\t 55.173033 & 36.11544  & yes       & 1         & 0.9999901\\\\\n",
       "\t 32.128378 & 47.23852  & yes       & 1         & 0.9998569\\\\\n",
       "\t 19.823211 & 27.58371  & yes       & 1         & 0.8047857\\\\\n",
       "\t 47.419741 & 28.94238  & yes       & 1         & 0.9996856\\\\\n",
       "\t 45.462488 & 41.06798  & yes       & 1         & 0.9999714\\\\\n",
       "\\end{tabular}\n"
      ],
      "text/markdown": [
       "\n",
       "| Age | Income | Married | MarriedBin | probs |\n",
       "|---|---|---|---|---|\n",
       "| 20.557448  | 25.698150  | no         | 0          | 0.75810085 |\n",
       "|  5.118870  | 24.359784  | no         | 0          | 0.06222977 |\n",
       "| 11.140977  | 20.700821  | no         | 0          | 0.10062149 |\n",
       "|  8.141332  | 24.490223  | no         | 0          | 0.12037797 |\n",
       "| 24.239333  | 16.074894  | no         | 0          | 0.43240688 |\n",
       "| 30.748610  | 12.018865  | no         | 0          | 0.56680530 |\n",
       "| 29.703733  | 12.161868  | no         | 0          | 0.51568297 |\n",
       "| 19.119326  | 21.346511  | no         | 0          | 0.44795086 |\n",
       "|  6.853559  | 22.059480  | no         | 0          | 0.05443632 |\n",
       "| 12.350472  | 25.147815  | no         | 0          | 0.29543273 |\n",
       "|  6.618449  | 19.390160  | no         | 0          | 0.02832670 |\n",
       "| 21.600080  | 26.099880  | no         | 0          | 0.81392472 |\n",
       "|  6.412208  | 25.712555  | no         | 0          | 0.10924044 |\n",
       "| 17.060004  | 20.803133  | no         | 0          | 0.30814648 |\n",
       "| 25.654421  | 12.636175  | no         | 0          | 0.31981446 |\n",
       "| 14.901382  | 17.238683  | no         | 0          | 0.10521995 |\n",
       "|  7.738963  | 25.743817  | no         | 0          | 0.14345380 |\n",
       "|  9.748317  | 16.760857  | no         | 0          | 0.03123351 |\n",
       "|  4.186525  | 19.311930  | no         | 0          | 0.01612169 |\n",
       "| 30.020624  | 14.982373  | no         | 0          | 0.68943092 |\n",
       "| 42.411791  | 31.164734  | yes        | 1          | 0.99941170 |\n",
       "| 50.151018  | 40.797840  | yes        | 1          | 0.99998960 |\n",
       "| 61.405690  | 38.702738  | yes        | 1          | 0.99999871 |\n",
       "| 59.120014  | 26.600831  | yes        | 1          | 0.99996277 |\n",
       "| 33.281076  | 24.116249  | yes        | 1          | 0.97561610 |\n",
       "| 42.272247  | 13.108422  | yes        | 1          | 0.95959302 |\n",
       "| 32.010220  | 26.053293  | yes        | 1          | 0.97921133 |\n",
       "| 33.949690  |  8.657247  | yes        | 1          | 0.55328559 |\n",
       "| 37.471639  | 26.345879  | yes        | 1          | 0.99436769 |\n",
       "| 62.086620  | 34.925538  | yes        | 1          | 0.99999733 |\n",
       "| ... | ... | ... | ... | ... |\n",
       "| 48.023604 | 50.77783  | yes       | 1         | 0.9999984 |\n",
       "| 49.089836 | 33.86815  | yes       | 1         | 0.9999325 |\n",
       "| 39.234290 | 22.66552  | yes       | 1         | 0.9911109 |\n",
       "| 39.639355 | 12.38383  | yes       | 1         | 0.9163364 |\n",
       "| 26.056123 | 25.34199  | yes       | 1         | 0.9105049 |\n",
       "|  9.201155 | 41.89362  | yes       | 1         | 0.9120672 |\n",
       "| 51.325961 | 37.73280  | yes       | 1         | 0.9999837 |\n",
       "| 11.199606 | 41.20740  | yes       | 1         | 0.9331686 |\n",
       "| 25.952878 | 39.27604  | yes       | 1         | 0.9961916 |\n",
       "| 62.617593 | 24.81719  | yes       | 1         | 0.9999746 |\n",
       "| 23.245188 | 53.45075  | yes       | 1         | 0.9997447 |\n",
       "| 38.029642 | 25.22628  | yes       | 1         | 0.9935600 |\n",
       "| 32.524086 | 20.46461  | yes       | 1         | 0.9345279 |\n",
       "| 48.997584 | 27.65075  | yes       | 1         | 0.9997035 |\n",
       "| 33.251849 | 37.52993  | yes       | 1         | 0.9989213 |\n",
       "| 61.784077 | 28.67851  | yes       | 1         | 0.9999876 |\n",
       "| 39.154976 | 18.91917  | yes       | 1         | 0.9784683 |\n",
       "| 31.141569 | 14.77958  | yes       | 1         | 0.7324223 |\n",
       "| 27.169296 | 40.84790  | yes       | 1         | 0.9980041 |\n",
       "| 43.140095 | 22.21867  | yes       | 1         | 0.9959497 |\n",
       "| 47.004324 | 29.63095  | yes       | 1         | 0.9997058 |\n",
       "| 49.489275 | 38.63692  | yes       | 1         | 0.9999799 |\n",
       "| 15.004543 | 21.54606  | yes       | 1         | 0.2486477 |\n",
       "| 38.437780 | 53.24333  | yes       | 1         | 0.9999918 |\n",
       "| 25.896272 | 45.27598  | yes       | 1         | 0.9990538 |\n",
       "| 55.173033 | 36.11544  | yes       | 1         | 0.9999901 |\n",
       "| 32.128378 | 47.23852  | yes       | 1         | 0.9998569 |\n",
       "| 19.823211 | 27.58371  | yes       | 1         | 0.8047857 |\n",
       "| 47.419741 | 28.94238  | yes       | 1         | 0.9996856 |\n",
       "| 45.462488 | 41.06798  | yes       | 1         | 0.9999714 |\n",
       "\n"
      ],
      "text/plain": [
       "    Age       Income    Married MarriedBin probs     \n",
       "1   20.557448 25.698150 no      0          0.75810085\n",
       "2    5.118870 24.359784 no      0          0.06222977\n",
       "3   11.140977 20.700821 no      0          0.10062149\n",
       "4    8.141332 24.490223 no      0          0.12037797\n",
       "5   24.239333 16.074894 no      0          0.43240688\n",
       "6   30.748610 12.018865 no      0          0.56680530\n",
       "7   29.703733 12.161868 no      0          0.51568297\n",
       "8   19.119326 21.346511 no      0          0.44795086\n",
       "9    6.853559 22.059480 no      0          0.05443632\n",
       "10  12.350472 25.147815 no      0          0.29543273\n",
       "11   6.618449 19.390160 no      0          0.02832670\n",
       "12  21.600080 26.099880 no      0          0.81392472\n",
       "13   6.412208 25.712555 no      0          0.10924044\n",
       "14  17.060004 20.803133 no      0          0.30814648\n",
       "15  25.654421 12.636175 no      0          0.31981446\n",
       "16  14.901382 17.238683 no      0          0.10521995\n",
       "17   7.738963 25.743817 no      0          0.14345380\n",
       "18   9.748317 16.760857 no      0          0.03123351\n",
       "19   4.186525 19.311930 no      0          0.01612169\n",
       "20  30.020624 14.982373 no      0          0.68943092\n",
       "21  42.411791 31.164734 yes     1          0.99941170\n",
       "22  50.151018 40.797840 yes     1          0.99998960\n",
       "23  61.405690 38.702738 yes     1          0.99999871\n",
       "24  59.120014 26.600831 yes     1          0.99996277\n",
       "25  33.281076 24.116249 yes     1          0.97561610\n",
       "26  42.272247 13.108422 yes     1          0.95959302\n",
       "27  32.010220 26.053293 yes     1          0.97921133\n",
       "28  33.949690  8.657247 yes     1          0.55328559\n",
       "29  37.471639 26.345879 yes     1          0.99436769\n",
       "30  62.086620 34.925538 yes     1          0.99999733\n",
       "... ...       ...       ...     ...        ...       \n",
       "71  48.023604 50.77783  yes     1          0.9999984 \n",
       "72  49.089836 33.86815  yes     1          0.9999325 \n",
       "73  39.234290 22.66552  yes     1          0.9911109 \n",
       "74  39.639355 12.38383  yes     1          0.9163364 \n",
       "75  26.056123 25.34199  yes     1          0.9105049 \n",
       "76   9.201155 41.89362  yes     1          0.9120672 \n",
       "77  51.325961 37.73280  yes     1          0.9999837 \n",
       "78  11.199606 41.20740  yes     1          0.9331686 \n",
       "79  25.952878 39.27604  yes     1          0.9961916 \n",
       "80  62.617593 24.81719  yes     1          0.9999746 \n",
       "81  23.245188 53.45075  yes     1          0.9997447 \n",
       "82  38.029642 25.22628  yes     1          0.9935600 \n",
       "83  32.524086 20.46461  yes     1          0.9345279 \n",
       "84  48.997584 27.65075  yes     1          0.9997035 \n",
       "85  33.251849 37.52993  yes     1          0.9989213 \n",
       "86  61.784077 28.67851  yes     1          0.9999876 \n",
       "87  39.154976 18.91917  yes     1          0.9784683 \n",
       "88  31.141569 14.77958  yes     1          0.7324223 \n",
       "89  27.169296 40.84790  yes     1          0.9980041 \n",
       "90  43.140095 22.21867  yes     1          0.9959497 \n",
       "91  47.004324 29.63095  yes     1          0.9997058 \n",
       "92  49.489275 38.63692  yes     1          0.9999799 \n",
       "93  15.004543 21.54606  yes     1          0.2486477 \n",
       "94  38.437780 53.24333  yes     1          0.9999918 \n",
       "95  25.896272 45.27598  yes     1          0.9990538 \n",
       "96  55.173033 36.11544  yes     1          0.9999901 \n",
       "97  32.128378 47.23852  yes     1          0.9998569 \n",
       "98  19.823211 27.58371  yes     1          0.8047857 \n",
       "99  47.419741 28.94238  yes     1          0.9996856 \n",
       "100 45.462488 41.06798  yes     1          0.9999714 "
      ]
     },
     "metadata": {},
     "output_type": "display_data"
    },
    {
     "data": {
      "image/png": "[encoded data removed]",
      "text/plain": [
       "plot without title"
      ]
     },
     "metadata": {},
     "output_type": "display_data"
    }
   ],
   "source": [
    "# Modifying the above data frame so married is one and single is zero\n",
    "df$MarriedBin <- as.integer(df$Married==\"yes\")\n",
    "# Fitting the model\n",
    "fit <- glm(MarriedBin ~ Age+Income,family=binomial,data=df)\n",
    "# producing training set predictions\n",
    "df$probs <- predict(fit,type=\"response\")\n",
    "intersect <- -fit$coeff[1]/fit$coeff[3]\n",
    "gradient <- -fit$coeff[2]/fit$coeff[3]\n",
    "# plots\n",
    "plot(Income~Age,df,col=df$Married)\n",
    "abline(intersect,gradient)\n",
    "df"
   ]
  },
  {
   "attachments": {
    "image.png": {
     "image/png": "[encoded data removed]"
    }
   },
   "cell_type": "markdown",
   "metadata": {},
   "source": [
    "As explained previously, a threshold of 0.5 is used to determine the prediction. However, it is clearly preferable to predict 1 for a probability value of 0.99 that for a probability value of 0.51, ideally we would like to have the probability values as closely clustered to 0 or 1 as possible. An ROC curve helps us assess the extent of the clustering. Theoretically, if all of the probabilities were 0 or 1 correctly an ROC curve would look like:\n",
    "\n",
    "![image.png](attachment:image.png)"
   ]
  },
  {
   "attachments": {
    "image.png": {
     "image/png": "[encoded data removed]"
    }
   },
   "cell_type": "markdown",
   "metadata": {},
   "source": [
    "The worst possible case looks like:\n",
    "\n",
    "![image.png](attachment:image.png)"
   ]
  },
  {
   "cell_type": "markdown",
   "metadata": {},
   "source": [
    "The ROC curve for our model is plotted below"
   ]
  },
  {
   "cell_type": "code",
   "execution_count": 27,
   "metadata": {},
   "outputs": [
    {
     "data": {
      "image/png": "[encoded data removed]",
      "text/plain": [
       "plot without title"
      ]
     },
     "metadata": {},
     "output_type": "display_data"
    }
   ],
   "source": [
    "# install.packages(\"pROC\",repos=\"http://cran.us.r-project.org\")\n",
    "library(pROC)\n",
    "roc <- roc(MarriedBin ~ probs, data = df)\n",
    "plot(roc)"
   ]
  },
  {
   "cell_type": "markdown",
   "metadata": {},
   "source": [
    "The area under this curve (auc) is another diagnostic parameter, clearly a \"perfect\" model would give 1 and as the model gets worse the auc will get closer to 0.5"
   ]
  },
  {
   "cell_type": "code",
   "execution_count": 28,
   "metadata": {},
   "outputs": [
    {
     "data": {
      "text/html": [
       "0.96625"
      ],
      "text/latex": [
       "0.96625"
      ],
      "text/markdown": [
       "0.96625"
      ],
      "text/plain": [
       "Area under the curve: 0.9662"
      ]
     },
     "metadata": {},
     "output_type": "display_data"
    }
   ],
   "source": [
    "auc <- auc(MarriedBin ~ probs, data = df)\n",
    "auc"
   ]
  },
  {
   "cell_type": "markdown",
   "metadata": {},
   "source": [
    "__To see the effect of changing the fitting the model to data that is not so neatly split, experiment with the spread parameters in the cell at the start of this section__"
   ]
  },
  {
   "cell_type": "markdown",
   "metadata": {},
   "source": [
    "### Interpretation of Coefficients"
   ]
  },
  {
   "cell_type": "markdown",
   "metadata": {},
   "source": [
    "Recall the formulation of Logistic Regression derived in the General Linear Models section"
   ]
  },
  {
   "cell_type": "markdown",
   "metadata": {},
   "source": [
    "$$ p(x) = \\frac{e^{x}}{1 + e^{x}} $$"
   ]
  },
  {
   "cell_type": "markdown",
   "metadata": {},
   "source": [
    "where"
   ]
  },
  {
   "cell_type": "markdown",
   "metadata": {},
   "source": [
    "$$x=\\beta_{0} + \\beta_{1}x_{1} + + \\beta_{2}x_{2} + .... + \\beta_{n} x_{n}$$"
   ]
  },
  {
   "cell_type": "markdown",
   "metadata": {},
   "source": [
    "Following the general manipulation in that section, we could equivalently write"
   ]
  },
  {
   "cell_type": "markdown",
   "metadata": {},
   "source": [
    "$$ \\ln{\\frac{p(x)}{1-p(x)}} = \\beta_{0} + \\beta_{1}x_{1} + + \\beta_{2}x_{2} + .... + \\beta_{n} x_{n} $$"
   ]
  },
  {
   "cell_type": "markdown",
   "metadata": {},
   "source": [
    "$$ \\implies \\frac{p(x)}{1-p(x)} = e^{\\beta_{0} + \\beta_{1}x_{1} + + \\beta_{2}x_{2} + .... + \\beta_{n} x_{n}} $$"
   ]
  },
  {
   "cell_type": "markdown",
   "metadata": {},
   "source": [
    "$$ \\implies \\frac{p(x)}{1-p(x)} = e^{\\beta_{0}} \\times e^{\\beta_{1}x_{1}} \\times ... \\times e^{\\beta_{n} x_{n}} $$"
   ]
  },
  {
   "cell_type": "markdown",
   "metadata": {},
   "source": [
    "The quantity of the left is \"the odds\" of event x happening. So, if $p(x) = \\frac{2}{3}$, then $1-p(x)=\\frac{1}{3}$, then the odds of x is $\\frac{2}{3} \\div \\frac{1}{3}=2$. This can be interpretted as, on average, x occurs 2 times for every 1 times it doesn't. If we increase $x_{i}$ by 1, then the right hand side of the equation becomes"
   ]
  },
  {
   "cell_type": "markdown",
   "metadata": {},
   "source": [
    "$$e^{\\beta_{0}} \\times e^{\\beta_{1}x_{1}} \\times ... \\times e^{\\beta_{i} (x_{i} + 1)} \\times... \\times e^{\\beta_{n} x_{n}}$$"
   ]
  },
  {
   "cell_type": "markdown",
   "metadata": {},
   "source": [
    "$$=e^{\\beta_{0}} \\times e^{\\beta_{1}x_{1}} \\times ... \\times e^{\\beta_{i}x_{i}}e^{\\beta_{i}} \\times... \\times e^{\\beta_{n} x_{n}}$$"
   ]
  },
  {
   "cell_type": "markdown",
   "metadata": {},
   "source": [
    "In this last expression, note that the terms are exactly as they would have been prior to the increase apart from the inclusion of the term $e^{\\beta_{i}}$. Hence we can interpret the logistic regression coefficient by saying an increase of 1 in $x_{i}$ changes the odds by a factor of $e^{\\beta_{i}}$. The code below interprets calculates these exponentials for the marriage model "
   ]
  },
  {
   "cell_type": "code",
   "execution_count": 29,
   "metadata": {},
   "outputs": [
    {
     "data": {
      "text/html": [
       "<strong>Age:</strong> 1.00117394560434"
      ],
      "text/latex": [
       "\\textbf{Age:} 1.00117394560434"
      ],
      "text/markdown": [
       "**Age:** 1.00117394560434"
      ],
      "text/plain": [
       "     Age \n",
       "1.001174 "
      ]
     },
     "metadata": {},
     "output_type": "display_data"
    },
    {
     "data": {
      "text/html": [
       "<strong>Income:</strong> 1.07335599223522"
      ],
      "text/latex": [
       "\\textbf{Income:} 1.07335599223522"
      ],
      "text/markdown": [
       "**Income:** 1.07335599223522"
      ],
      "text/plain": [
       "  Income \n",
       "1.073356 "
      ]
     },
     "metadata": {},
     "output_type": "display_data"
    }
   ],
   "source": [
    "exp(fit_initial$coeff[2])\n",
    "exp(fit_initial$coeff[3])"
   ]
  },
  {
   "cell_type": "markdown",
   "metadata": {},
   "source": [
    "The Age and Income odd would change by these factors for a unit increase in age and a unit increase in income"
   ]
  },
  {
   "cell_type": "markdown",
   "metadata": {},
   "source": [
    "### Conservation of proportions"
   ]
  },
  {
   "cell_type": "markdown",
   "metadata": {},
   "source": [
    "A property of logistic regression is that it conserves proportion, in the sense that the sum of the probabilities should equal the number of positives. The code below verifies this for our marriage data."
   ]
  },
  {
   "cell_type": "code",
   "execution_count": 30,
   "metadata": {},
   "outputs": [
    {
     "data": {
      "text/html": [
       "79.9999999999964"
      ],
      "text/latex": [
       "79.9999999999964"
      ],
      "text/markdown": [
       "79.9999999999964"
      ],
      "text/plain": [
       "[1] 80"
      ]
     },
     "metadata": {},
     "output_type": "display_data"
    }
   ],
   "source": [
    "sum(df$probs)"
   ]
  },
  {
   "cell_type": "markdown",
   "metadata": {},
   "source": [
    "# Lab\n",
    "\n",
    "## Mandatory\n",
    "\n",
    "* Experiment with the spread parameters and make sure your understand the effect you are having on the probabilities and the ROC curve, see the \"ROC Curves and the AUC Parameter\" section.\n",
    "* Experiment with the number of married and single people and understand how this relates to the sum of the model probabilities, see the \"ROC Curves and the AUC Parameter\" section.\n",
    "   \n",
    "* \n",
    "* Go through each of the EMC questions (below) and make sure you can relate them to the theory above\n"
   ]
  }
 ],
 "metadata": {
  "kernelspec": {
   "display_name": "R",
   "language": "R",
   "name": "ir"
  },
  "language_info": {
   "codemirror_mode": "r",
   "file_extension": ".r",
   "mimetype": "text/x-r-source",
   "name": "R",
   "pygments_lexer": "r",
   "version": "3.4.3"
  }
 },
 "nbformat": 4,
 "nbformat_minor": 2
}
